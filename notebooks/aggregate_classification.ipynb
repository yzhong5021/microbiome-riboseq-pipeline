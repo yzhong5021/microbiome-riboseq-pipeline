{
 "cells": [
  {
   "cell_type": "markdown",
   "id": "7b7213e7",
   "metadata": {},
   "source": [
    "# Classifier Comparison and Aggregate Taxonomic Results\n",
    "\n",
    "Visualizes taxonomic similarity and overlap in classifier hits, then combines results into a final taxonomic description.\n",
    "\n",
    "### Workflow:\n",
    "- Visualize and quantify classifier overlap\n",
    "- Aggregate unique and unanimously classified reads\n",
    "- Visualize aggregated taxonomic result\n",
    "***"
   ]
  },
  {
   "cell_type": "code",
   "execution_count": 1,
   "id": "999d0364",
   "metadata": {},
   "outputs": [],
   "source": [
    "import matplotlib.pyplot as plt\n",
    "import matplotlib.patches as mpatches\n",
    "from matplotlib.offsetbox import (TextArea, DrawingArea,\n",
    "                                   HPacker, VPacker, AnchoredOffsetbox)\n",
    "import matplotlib.cm as cm\n",
    "import numpy as np\n",
    "import pandas as pd\n",
    "import plotly.graph_objects as go\n",
    "import seaborn as sns\n",
    "\n",
    "from src import taxo_utils"
   ]
  },
  {
   "cell_type": "markdown",
   "id": "67a4d317",
   "metadata": {},
   "source": [
    "## Data Preprocessing"
   ]
  },
  {
   "cell_type": "code",
   "execution_count": 2,
   "id": "a33126f8",
   "metadata": {},
   "outputs": [],
   "source": [
    "cf_gtdb_path = r'raw_data\\read_ids\\cf_gtdb_id_name.tsv'\n",
    "cf_nt_path = r'raw_data\\read_ids\\cf_nt_id_name.tsv'\n",
    "cf_rs_path = r'raw_data\\read_ids\\cf_rs_id_name.tsv'\n",
    "dmd_ur_path = r'raw_data\\read_ids\\dmd_ur_id_name.tsv'\n",
    "dmd_nr_path = r'raw_data\\read_ids\\dmd_nr_id_name.tsv'\n",
    "k2_rs_path = r'raw_data\\read_ids\\k2_rs_id_name.tsv'"
   ]
  },
  {
   "cell_type": "code",
   "execution_count": 3,
   "id": "dcbfa980",
   "metadata": {},
   "outputs": [],
   "source": [
    "paths_list = [('cf_gtdb', cf_gtdb_path),\n",
    "              ('cf_nt', cf_nt_path),\n",
    "              ('cf_rs', cf_rs_path),\n",
    "              ('k2_rs', k2_rs_path),\n",
    "              ('dmd_ur', dmd_ur_path),\n",
    "              ('dmd_nr', dmd_nr_path)]\n",
    "\n",
    "# Create read ID sets and mapping of read IDs to species names for each classifier\n",
    "\n",
    "id_sets = {}\n",
    "id_species_mapping = {}\n",
    "\n",
    "for name, path in paths_list:\n",
    "    temp = set()\n",
    "    df = pd.read_csv(path, sep=r'\\t|\\s\\s+', engine='python', header=0)\n",
    "    ids = df['query_id'].tolist()\n",
    "    temp = set(ids)\n",
    "    id_species_mapping[name] = df.set_index('query_id')['species_name'].to_dict()\n",
    "    id_sets[name] = temp"
   ]
  },
  {
   "cell_type": "code",
   "execution_count": 4,
   "id": "dab8db54",
   "metadata": {},
   "outputs": [],
   "source": [
    "# resolve discrepancy in species naming between databases\n",
    "for classifier, mapping in id_species_mapping.items():\n",
    "    for qid, species in mapping.items():\n",
    "        if species == 'Stutzerimonas kunmingensis':\n",
    "            mapping[qid] = 'Stutzerimonas chloritidismutans'"
   ]
  },
  {
   "cell_type": "code",
   "execution_count": 5,
   "id": "e9d6220f",
   "metadata": {},
   "outputs": [
    {
     "name": "stdout",
     "output_type": "stream",
     "text": [
      "Total number classified: 1256863\n"
     ]
    }
   ],
   "source": [
    "combined_ids = id_sets['cf_gtdb'] | id_sets['cf_nt'] | id_sets['cf_rs'] | id_sets['k2_rs'] | id_sets['dmd_ur'] | id_sets['dmd_nr']\n",
    "print('Total number classified:', len(combined_ids))"
   ]
  },
  {
   "cell_type": "markdown",
   "id": "88345fe4",
   "metadata": {},
   "source": [
    "## Visualization"
   ]
  },
  {
   "cell_type": "code",
   "execution_count": 6,
   "id": "ad70da9e",
   "metadata": {},
   "outputs": [
    {
     "data": {
      "application/vnd.plotly.v1+json": {
       "config": {
        "plotlyServerURL": "https://plot.ly"
       },
       "data": [
        {
         "link": {
          "hoverinfo": "all",
          "source": [
           0,
           1,
           1,
           1,
           2,
           2,
           2,
           2,
           2,
           3,
           3,
           4,
           4,
           4,
           4,
           4,
           4,
           5,
           5,
           6,
           6,
           6,
           6,
           7,
           7,
           7,
           8,
           8,
           9,
           9,
           10,
           10,
           10,
           10,
           11,
           11,
           11,
           12,
           12,
           12,
           12,
           12,
           13,
           13,
           13,
           14,
           14,
           14,
           14,
           14,
           15,
           15,
           15,
           15,
           16,
           16,
           16,
           16,
           17,
           17,
           17,
           18,
           18,
           18,
           19,
           19,
           19,
           20,
           20,
           20,
           21,
           21,
           21,
           21,
           22,
           22,
           23,
           23,
           23,
           23,
           24,
           24,
           24,
           24,
           24,
           25,
           25,
           25,
           25,
           26,
           26,
           26,
           27,
           27,
           27,
           27,
           27,
           28,
           28,
           28,
           29,
           29,
           29,
           29,
           30,
           30,
           30,
           30,
           31,
           31,
           31,
           31,
           32,
           32,
           33,
           33,
           34,
           35,
           35,
           35,
           36,
           36,
           36,
           36,
           37,
           37,
           37,
           38,
           38,
           38,
           39,
           39,
           39,
           39,
           40,
           40,
           40,
           40,
           40,
           41,
           41,
           41,
           42,
           42,
           43,
           43,
           43,
           43,
           44,
           44,
           44,
           44,
           45,
           45,
           45,
           46,
           46,
           46,
           47,
           47,
           48,
           48,
           49,
           50,
           50,
           50,
           51,
           51,
           52,
           52,
           52,
           53,
           53,
           53,
           53,
           54,
           54,
           54,
           55,
           55,
           56,
           57,
           57,
           58,
           58,
           58,
           59,
           59,
           60,
           61,
           61,
           62
          ],
          "target": [
           63,
           65,
           64,
           63,
           67,
           64,
           68,
           63,
           65,
           68,
           63,
           67,
           66,
           64,
           68,
           63,
           65,
           64,
           63,
           68,
           65,
           64,
           63,
           68,
           64,
           63,
           65,
           63,
           67,
           63,
           68,
           67,
           64,
           63,
           65,
           68,
           63,
           67,
           66,
           68,
           63,
           65,
           67,
           66,
           63,
           67,
           66,
           64,
           63,
           65,
           67,
           66,
           68,
           63,
           67,
           66,
           64,
           63,
           67,
           68,
           63,
           65,
           66,
           63,
           67,
           65,
           63,
           66,
           68,
           63,
           67,
           65,
           68,
           63,
           66,
           63,
           67,
           65,
           64,
           63,
           66,
           64,
           68,
           63,
           65,
           67,
           65,
           66,
           63,
           66,
           64,
           63,
           67,
           66,
           64,
           68,
           63,
           67,
           64,
           63,
           65,
           68,
           66,
           63,
           65,
           64,
           66,
           63,
           68,
           66,
           64,
           63,
           68,
           64,
           65,
           64,
           64,
           68,
           65,
           64,
           67,
           65,
           64,
           66,
           68,
           66,
           64,
           68,
           67,
           64,
           68,
           67,
           66,
           64,
           67,
           66,
           64,
           68,
           65,
           65,
           64,
           66,
           67,
           64,
           68,
           67,
           65,
           64,
           68,
           65,
           64,
           66,
           67,
           66,
           64,
           67,
           65,
           64,
           66,
           64,
           65,
           68,
           65,
           67,
           65,
           66,
           67,
           65,
           67,
           65,
           68,
           67,
           65,
           68,
           66,
           65,
           68,
           66,
           65,
           66,
           68,
           67,
           68,
           67,
           66,
           68,
           66,
           68,
           67,
           67,
           66,
           66
          ],
          "value": [
           36197,
           5922,
           5922,
           5922,
           547,
           547,
           547,
           547,
           547,
           4171,
           4171,
           368,
           368,
           368,
           368,
           368,
           368,
           4821,
           4821,
           11359,
           11359,
           11359,
           11359,
           2431,
           2431,
           2431,
           8685,
           8685,
           534,
           534,
           150,
           150,
           150,
           150,
           2530,
           2530,
           2530,
           100,
           100,
           100,
           100,
           100,
           540,
           540,
           540,
           84,
           84,
           84,
           84,
           84,
           112,
           112,
           112,
           112,
           107,
           107,
           107,
           107,
           134,
           134,
           134,
           9,
           9,
           9,
           154,
           154,
           154,
           22,
           22,
           22,
           86,
           86,
           86,
           86,
           33,
           33,
           77,
           77,
           77,
           77,
           51,
           51,
           51,
           51,
           51,
           104,
           104,
           104,
           104,
           60,
           60,
           60,
           72,
           72,
           72,
           72,
           72,
           33,
           33,
           33,
           20,
           20,
           20,
           20,
           15,
           15,
           15,
           15,
           17,
           17,
           17,
           17,
           179721,
           179721,
           23217,
           23217,
           177477,
           19879,
           19879,
           19879,
           1409,
           1409,
           1409,
           1409,
           793,
           793,
           793,
           2926,
           2926,
           2926,
           3409,
           3409,
           3409,
           3409,
           656,
           656,
           656,
           656,
           656,
           151,
           151,
           151,
           806,
           806,
           820,
           820,
           820,
           820,
           117,
           117,
           117,
           117,
           1116,
           1116,
           1116,
           449,
           449,
           449,
           133,
           133,
           47955,
           47955,
           102974,
           1499,
           1499,
           1499,
           1346,
           1346,
           1824,
           1824,
           1824,
           1371,
           1371,
           1371,
           1371,
           294,
           294,
           294,
           149,
           149,
           408012,
           9322,
           9322,
           11903,
           11903,
           11903,
           2038,
           2038,
           45245,
           123904,
           123904,
           6403
          ]
         },
         "node": {
          "label": [
           "cf_gtdb only (36197)",
           "cf_gtdb & cf_nt & cf_rs (5922)",
           "cf_gtdb & cf_nt & cf_rs & dmd_ur & k2_rs (547)",
           "cf_gtdb & k2_rs (4171)",
           "cf_gtdb & cf_nt & cf_rs & dmd_nr & dmd_ur & k2_rs (368)",
           "cf_gtdb & cf_nt (4821)",
           "cf_gtdb & cf_nt & cf_rs & k2_rs (11359)",
           "cf_gtdb & cf_nt & k2_rs (2431)",
           "cf_gtdb & cf_rs (8685)",
           "cf_gtdb & dmd_ur (534)",
           "cf_gtdb & cf_nt & dmd_ur & k2_rs (150)",
           "cf_gtdb & cf_rs & k2_rs (2530)",
           "cf_gtdb & cf_rs & dmd_nr & dmd_ur & k2_rs (100)",
           "cf_gtdb & dmd_nr & dmd_ur (540)",
           "cf_gtdb & cf_nt & cf_rs & dmd_nr & dmd_ur (84)",
           "cf_gtdb & dmd_nr & dmd_ur & k2_rs (112)",
           "cf_gtdb & cf_nt & dmd_nr & dmd_ur (107)",
           "cf_gtdb & dmd_ur & k2_rs (134)",
           "cf_gtdb & cf_rs & dmd_nr (9)",
           "cf_gtdb & cf_rs & dmd_ur (154)",
           "cf_gtdb & dmd_nr & k2_rs (22)",
           "cf_gtdb & cf_rs & dmd_ur & k2_rs (86)",
           "cf_gtdb & dmd_nr (33)",
           "cf_gtdb & cf_nt & cf_rs & dmd_ur (77)",
           "cf_gtdb & cf_nt & cf_rs & dmd_nr & k2_rs (51)",
           "cf_gtdb & cf_rs & dmd_nr & dmd_ur (104)",
           "cf_gtdb & cf_nt & dmd_nr (60)",
           "cf_gtdb & cf_nt & dmd_nr & dmd_ur & k2_rs (72)",
           "cf_gtdb & cf_nt & dmd_ur (33)",
           "cf_gtdb & cf_rs & dmd_nr & k2_rs (20)",
           "cf_gtdb & cf_nt & cf_rs & dmd_nr (15)",
           "cf_gtdb & cf_nt & dmd_nr & k2_rs (17)",
           "cf_nt & k2_rs (179721)",
           "cf_nt & cf_rs (23217)",
           "cf_nt only (177477)",
           "cf_nt & cf_rs & k2_rs (19879)",
           "cf_nt & cf_rs & dmd_nr & dmd_ur (1409)",
           "cf_nt & dmd_nr & k2_rs (793)",
           "cf_nt & dmd_ur & k2_rs (2926)",
           "cf_nt & dmd_nr & dmd_ur & k2_rs (3409)",
           "cf_nt & cf_rs & dmd_nr & dmd_ur & k2_rs (656)",
           "cf_nt & cf_rs & dmd_nr (151)",
           "cf_nt & dmd_ur (806)",
           "cf_nt & cf_rs & dmd_ur & k2_rs (820)",
           "cf_nt & cf_rs & dmd_nr & k2_rs (117)",
           "cf_nt & dmd_nr & dmd_ur (1116)",
           "cf_nt & cf_rs & dmd_ur (449)",
           "cf_nt & dmd_nr (133)",
           "cf_rs & k2_rs (47955)",
           "cf_rs only (102974)",
           "cf_rs & dmd_nr & dmd_ur (1499)",
           "cf_rs & dmd_ur (1346)",
           "cf_rs & dmd_ur & k2_rs (1824)",
           "cf_rs & dmd_nr & dmd_ur & k2_rs (1371)",
           "cf_rs & dmd_nr & k2_rs (294)",
           "cf_rs & dmd_nr (149)",
           "k2_rs only (408012)",
           "dmd_ur & k2_rs (9322)",
           "dmd_nr & dmd_ur & k2_rs (11903)",
           "dmd_nr & k2_rs (2038)",
           "dmd_ur only (45245)",
           "dmd_nr & dmd_ur (123904)",
           "dmd_nr only (6403)",
           "cf_gtdb (79545)",
           "cf_nt (439193)",
           "cf_rs (234221)",
           "dmd_nr (157059)",
           "dmd_ur (211207)",
           "k2_rs (713210)"
          ],
          "line": {
           "color": "black",
           "width": 0
          },
          "pad": 10,
          "thickness": 30
         },
         "type": "sankey"
        }
       ],
       "layout": {
        "font": {
         "color": "black",
         "size": 10
        },
        "height": 800,
        "template": {
         "data": {
          "bar": [
           {
            "error_x": {
             "color": "#2a3f5f"
            },
            "error_y": {
             "color": "#2a3f5f"
            },
            "marker": {
             "line": {
              "color": "#E5ECF6",
              "width": 0.5
             },
             "pattern": {
              "fillmode": "overlay",
              "size": 10,
              "solidity": 0.2
             }
            },
            "type": "bar"
           }
          ],
          "barpolar": [
           {
            "marker": {
             "line": {
              "color": "#E5ECF6",
              "width": 0.5
             },
             "pattern": {
              "fillmode": "overlay",
              "size": 10,
              "solidity": 0.2
             }
            },
            "type": "barpolar"
           }
          ],
          "carpet": [
           {
            "aaxis": {
             "endlinecolor": "#2a3f5f",
             "gridcolor": "white",
             "linecolor": "white",
             "minorgridcolor": "white",
             "startlinecolor": "#2a3f5f"
            },
            "baxis": {
             "endlinecolor": "#2a3f5f",
             "gridcolor": "white",
             "linecolor": "white",
             "minorgridcolor": "white",
             "startlinecolor": "#2a3f5f"
            },
            "type": "carpet"
           }
          ],
          "choropleth": [
           {
            "colorbar": {
             "outlinewidth": 0,
             "ticks": ""
            },
            "type": "choropleth"
           }
          ],
          "contour": [
           {
            "colorbar": {
             "outlinewidth": 0,
             "ticks": ""
            },
            "colorscale": [
             [
              0,
              "#0d0887"
             ],
             [
              0.1111111111111111,
              "#46039f"
             ],
             [
              0.2222222222222222,
              "#7201a8"
             ],
             [
              0.3333333333333333,
              "#9c179e"
             ],
             [
              0.4444444444444444,
              "#bd3786"
             ],
             [
              0.5555555555555556,
              "#d8576b"
             ],
             [
              0.6666666666666666,
              "#ed7953"
             ],
             [
              0.7777777777777778,
              "#fb9f3a"
             ],
             [
              0.8888888888888888,
              "#fdca26"
             ],
             [
              1,
              "#f0f921"
             ]
            ],
            "type": "contour"
           }
          ],
          "contourcarpet": [
           {
            "colorbar": {
             "outlinewidth": 0,
             "ticks": ""
            },
            "type": "contourcarpet"
           }
          ],
          "heatmap": [
           {
            "colorbar": {
             "outlinewidth": 0,
             "ticks": ""
            },
            "colorscale": [
             [
              0,
              "#0d0887"
             ],
             [
              0.1111111111111111,
              "#46039f"
             ],
             [
              0.2222222222222222,
              "#7201a8"
             ],
             [
              0.3333333333333333,
              "#9c179e"
             ],
             [
              0.4444444444444444,
              "#bd3786"
             ],
             [
              0.5555555555555556,
              "#d8576b"
             ],
             [
              0.6666666666666666,
              "#ed7953"
             ],
             [
              0.7777777777777778,
              "#fb9f3a"
             ],
             [
              0.8888888888888888,
              "#fdca26"
             ],
             [
              1,
              "#f0f921"
             ]
            ],
            "type": "heatmap"
           }
          ],
          "histogram": [
           {
            "marker": {
             "pattern": {
              "fillmode": "overlay",
              "size": 10,
              "solidity": 0.2
             }
            },
            "type": "histogram"
           }
          ],
          "histogram2d": [
           {
            "colorbar": {
             "outlinewidth": 0,
             "ticks": ""
            },
            "colorscale": [
             [
              0,
              "#0d0887"
             ],
             [
              0.1111111111111111,
              "#46039f"
             ],
             [
              0.2222222222222222,
              "#7201a8"
             ],
             [
              0.3333333333333333,
              "#9c179e"
             ],
             [
              0.4444444444444444,
              "#bd3786"
             ],
             [
              0.5555555555555556,
              "#d8576b"
             ],
             [
              0.6666666666666666,
              "#ed7953"
             ],
             [
              0.7777777777777778,
              "#fb9f3a"
             ],
             [
              0.8888888888888888,
              "#fdca26"
             ],
             [
              1,
              "#f0f921"
             ]
            ],
            "type": "histogram2d"
           }
          ],
          "histogram2dcontour": [
           {
            "colorbar": {
             "outlinewidth": 0,
             "ticks": ""
            },
            "colorscale": [
             [
              0,
              "#0d0887"
             ],
             [
              0.1111111111111111,
              "#46039f"
             ],
             [
              0.2222222222222222,
              "#7201a8"
             ],
             [
              0.3333333333333333,
              "#9c179e"
             ],
             [
              0.4444444444444444,
              "#bd3786"
             ],
             [
              0.5555555555555556,
              "#d8576b"
             ],
             [
              0.6666666666666666,
              "#ed7953"
             ],
             [
              0.7777777777777778,
              "#fb9f3a"
             ],
             [
              0.8888888888888888,
              "#fdca26"
             ],
             [
              1,
              "#f0f921"
             ]
            ],
            "type": "histogram2dcontour"
           }
          ],
          "mesh3d": [
           {
            "colorbar": {
             "outlinewidth": 0,
             "ticks": ""
            },
            "type": "mesh3d"
           }
          ],
          "parcoords": [
           {
            "line": {
             "colorbar": {
              "outlinewidth": 0,
              "ticks": ""
             }
            },
            "type": "parcoords"
           }
          ],
          "pie": [
           {
            "automargin": true,
            "type": "pie"
           }
          ],
          "scatter": [
           {
            "fillpattern": {
             "fillmode": "overlay",
             "size": 10,
             "solidity": 0.2
            },
            "type": "scatter"
           }
          ],
          "scatter3d": [
           {
            "line": {
             "colorbar": {
              "outlinewidth": 0,
              "ticks": ""
             }
            },
            "marker": {
             "colorbar": {
              "outlinewidth": 0,
              "ticks": ""
             }
            },
            "type": "scatter3d"
           }
          ],
          "scattercarpet": [
           {
            "marker": {
             "colorbar": {
              "outlinewidth": 0,
              "ticks": ""
             }
            },
            "type": "scattercarpet"
           }
          ],
          "scattergeo": [
           {
            "marker": {
             "colorbar": {
              "outlinewidth": 0,
              "ticks": ""
             }
            },
            "type": "scattergeo"
           }
          ],
          "scattergl": [
           {
            "marker": {
             "colorbar": {
              "outlinewidth": 0,
              "ticks": ""
             }
            },
            "type": "scattergl"
           }
          ],
          "scattermap": [
           {
            "marker": {
             "colorbar": {
              "outlinewidth": 0,
              "ticks": ""
             }
            },
            "type": "scattermap"
           }
          ],
          "scattermapbox": [
           {
            "marker": {
             "colorbar": {
              "outlinewidth": 0,
              "ticks": ""
             }
            },
            "type": "scattermapbox"
           }
          ],
          "scatterpolar": [
           {
            "marker": {
             "colorbar": {
              "outlinewidth": 0,
              "ticks": ""
             }
            },
            "type": "scatterpolar"
           }
          ],
          "scatterpolargl": [
           {
            "marker": {
             "colorbar": {
              "outlinewidth": 0,
              "ticks": ""
             }
            },
            "type": "scatterpolargl"
           }
          ],
          "scatterternary": [
           {
            "marker": {
             "colorbar": {
              "outlinewidth": 0,
              "ticks": ""
             }
            },
            "type": "scatterternary"
           }
          ],
          "surface": [
           {
            "colorbar": {
             "outlinewidth": 0,
             "ticks": ""
            },
            "colorscale": [
             [
              0,
              "#0d0887"
             ],
             [
              0.1111111111111111,
              "#46039f"
             ],
             [
              0.2222222222222222,
              "#7201a8"
             ],
             [
              0.3333333333333333,
              "#9c179e"
             ],
             [
              0.4444444444444444,
              "#bd3786"
             ],
             [
              0.5555555555555556,
              "#d8576b"
             ],
             [
              0.6666666666666666,
              "#ed7953"
             ],
             [
              0.7777777777777778,
              "#fb9f3a"
             ],
             [
              0.8888888888888888,
              "#fdca26"
             ],
             [
              1,
              "#f0f921"
             ]
            ],
            "type": "surface"
           }
          ],
          "table": [
           {
            "cells": {
             "fill": {
              "color": "#EBF0F8"
             },
             "line": {
              "color": "white"
             }
            },
            "header": {
             "fill": {
              "color": "#C8D4E3"
             },
             "line": {
              "color": "white"
             }
            },
            "type": "table"
           }
          ]
         },
         "layout": {
          "annotationdefaults": {
           "arrowcolor": "#2a3f5f",
           "arrowhead": 0,
           "arrowwidth": 1
          },
          "autotypenumbers": "strict",
          "coloraxis": {
           "colorbar": {
            "outlinewidth": 0,
            "ticks": ""
           }
          },
          "colorscale": {
           "diverging": [
            [
             0,
             "#8e0152"
            ],
            [
             0.1,
             "#c51b7d"
            ],
            [
             0.2,
             "#de77ae"
            ],
            [
             0.3,
             "#f1b6da"
            ],
            [
             0.4,
             "#fde0ef"
            ],
            [
             0.5,
             "#f7f7f7"
            ],
            [
             0.6,
             "#e6f5d0"
            ],
            [
             0.7,
             "#b8e186"
            ],
            [
             0.8,
             "#7fbc41"
            ],
            [
             0.9,
             "#4d9221"
            ],
            [
             1,
             "#276419"
            ]
           ],
           "sequential": [
            [
             0,
             "#0d0887"
            ],
            [
             0.1111111111111111,
             "#46039f"
            ],
            [
             0.2222222222222222,
             "#7201a8"
            ],
            [
             0.3333333333333333,
             "#9c179e"
            ],
            [
             0.4444444444444444,
             "#bd3786"
            ],
            [
             0.5555555555555556,
             "#d8576b"
            ],
            [
             0.6666666666666666,
             "#ed7953"
            ],
            [
             0.7777777777777778,
             "#fb9f3a"
            ],
            [
             0.8888888888888888,
             "#fdca26"
            ],
            [
             1,
             "#f0f921"
            ]
           ],
           "sequentialminus": [
            [
             0,
             "#0d0887"
            ],
            [
             0.1111111111111111,
             "#46039f"
            ],
            [
             0.2222222222222222,
             "#7201a8"
            ],
            [
             0.3333333333333333,
             "#9c179e"
            ],
            [
             0.4444444444444444,
             "#bd3786"
            ],
            [
             0.5555555555555556,
             "#d8576b"
            ],
            [
             0.6666666666666666,
             "#ed7953"
            ],
            [
             0.7777777777777778,
             "#fb9f3a"
            ],
            [
             0.8888888888888888,
             "#fdca26"
            ],
            [
             1,
             "#f0f921"
            ]
           ]
          },
          "colorway": [
           "#636efa",
           "#EF553B",
           "#00cc96",
           "#ab63fa",
           "#FFA15A",
           "#19d3f3",
           "#FF6692",
           "#B6E880",
           "#FF97FF",
           "#FECB52"
          ],
          "font": {
           "color": "#2a3f5f"
          },
          "geo": {
           "bgcolor": "white",
           "lakecolor": "white",
           "landcolor": "#E5ECF6",
           "showlakes": true,
           "showland": true,
           "subunitcolor": "white"
          },
          "hoverlabel": {
           "align": "left"
          },
          "hovermode": "closest",
          "mapbox": {
           "style": "light"
          },
          "paper_bgcolor": "white",
          "plot_bgcolor": "#E5ECF6",
          "polar": {
           "angularaxis": {
            "gridcolor": "white",
            "linecolor": "white",
            "ticks": ""
           },
           "bgcolor": "#E5ECF6",
           "radialaxis": {
            "gridcolor": "white",
            "linecolor": "white",
            "ticks": ""
           }
          },
          "scene": {
           "xaxis": {
            "backgroundcolor": "#E5ECF6",
            "gridcolor": "white",
            "gridwidth": 2,
            "linecolor": "white",
            "showbackground": true,
            "ticks": "",
            "zerolinecolor": "white"
           },
           "yaxis": {
            "backgroundcolor": "#E5ECF6",
            "gridcolor": "white",
            "gridwidth": 2,
            "linecolor": "white",
            "showbackground": true,
            "ticks": "",
            "zerolinecolor": "white"
           },
           "zaxis": {
            "backgroundcolor": "#E5ECF6",
            "gridcolor": "white",
            "gridwidth": 2,
            "linecolor": "white",
            "showbackground": true,
            "ticks": "",
            "zerolinecolor": "white"
           }
          },
          "shapedefaults": {
           "line": {
            "color": "#2a3f5f"
           }
          },
          "ternary": {
           "aaxis": {
            "gridcolor": "white",
            "linecolor": "white",
            "ticks": ""
           },
           "baxis": {
            "gridcolor": "white",
            "linecolor": "white",
            "ticks": ""
           },
           "bgcolor": "#E5ECF6",
           "caxis": {
            "gridcolor": "white",
            "linecolor": "white",
            "ticks": ""
           }
          },
          "title": {
           "x": 0.05
          },
          "xaxis": {
           "automargin": true,
           "gridcolor": "white",
           "linecolor": "white",
           "ticks": "",
           "title": {
            "standoff": 15
           },
           "zerolinecolor": "white",
           "zerolinewidth": 2
          },
          "yaxis": {
           "automargin": true,
           "gridcolor": "white",
           "linecolor": "white",
           "ticks": "",
           "title": {
            "standoff": 15
           },
           "zerolinecolor": "white",
           "zerolinewidth": 2
          }
         }
        },
        "title": {
         "text": "classified reads"
        },
        "width": 1200
       }
      }
     },
     "metadata": {},
     "output_type": "display_data"
    }
   ],
   "source": [
    "id_to_cats = taxo_utils.plot_sankey(id_sets)"
   ]
  },
  {
   "cell_type": "code",
   "execution_count": 7,
   "id": "ec7d601b",
   "metadata": {},
   "outputs": [
    {
     "name": "stdout",
     "output_type": "stream",
     "text": [
      "480555 queries map to multiple classifiers\n"
     ]
    }
   ],
   "source": [
    "multi_mapping_ids = []\n",
    "for _id, cats in id_to_cats.items():\n",
    "    if len(cats) > 1:\n",
    "        multi_mapping_ids.append(_id)\n",
    "\n",
    "print(len(multi_mapping_ids), 'queries map to multiple classifiers')"
   ]
  },
  {
   "cell_type": "code",
   "execution_count": null,
   "id": "dcee48fc",
   "metadata": {},
   "outputs": [],
   "source": [
    "# Calculate pairwise species agreement between classifiers, stored in species_paired_counts\n",
    "\n",
    "species_paired_counts = {}\n",
    "unanimous_species_ids = set()\n",
    "mixed_agreement_species_ids = set()\n",
    "total_disagreement_species_ids = set()\n",
    "\n",
    "for id_value in multi_mapping_ids:\n",
    "    groups = id_to_cats[id_value]\n",
    "    \n",
    "    if len(groups) < 2:\n",
    "        continue\n",
    "    \n",
    "    species_classifications = {(id_species_mapping[group][id_value]) for group in groups}\n",
    "    \n",
    "    if len(species_classifications) == 1:\n",
    "        unanimous_species_ids.add(id_value)\n",
    "    elif len(species_classifications) == len(groups):\n",
    "        total_disagreement_species_ids.add(id_value)\n",
    "    else:\n",
    "        mixed_agreement_species_ids.add(id_value)\n",
    "\n",
    "    groups_l = sorted(list(groups))\n",
    "    for i in range(len(groups_l) - 1):\n",
    "        for j in range(i + 1, len(groups_l)):\n",
    "            group_key = f'{groups_l[i]},{groups_l[j]}'\n",
    "            count = species_paired_counts.get(group_key, (0, 0))\n",
    "            \n",
    "            species1 = id_species_mapping[groups_l[i]][id_value]\n",
    "            species2 = id_species_mapping[groups_l[j]][id_value]\n",
    "            \n",
    "            if species1 == species2:\n",
    "                species_paired_counts[group_key] = (count[0] + 1, count[1])\n",
    "            else:\n",
    "                species_paired_counts[group_key] = (count[0], count[1] + 1)"
   ]
  },
  {
   "cell_type": "code",
   "execution_count": 10,
   "id": "e63a8830",
   "metadata": {},
   "outputs": [],
   "source": [
    "# Calculate pairwise species agreement between classifiers, stored in genus_paired_counts\n",
    "\n",
    "genus_paired_counts = {}\n",
    "unanimous_genus_ids = set()\n",
    "mixed_agreement_ids = set()\n",
    "total_disagreement_ids = set()\n",
    "\n",
    "for id_value in multi_mapping_ids:\n",
    "    groups = id_to_cats[id_value]\n",
    "    \n",
    "    if len(groups) < 2:\n",
    "        continue\n",
    "\n",
    "    genus_classifications = {id_species_mapping[group][id_value].split(' ')[0] for group in groups}\n",
    "    \n",
    "    if len(genus_classifications) == 1:\n",
    "        unanimous_genus_ids.add(id_value)\n",
    "    elif len(genus_classifications) == len(groups):\n",
    "        total_disagreement_ids.add(id_value)\n",
    "    else:\n",
    "        mixed_agreement_ids.add(id_value)\n",
    "\n",
    "    groups_l = sorted(list(groups))\n",
    "    for i in range(len(groups_l) - 1):\n",
    "        for j in range(i + 1, len(groups_l)):\n",
    "            group_key = f'{groups_l[i]},{groups_l[j]}'\n",
    "            count = genus_paired_counts.get(group_key, (0, 0))\n",
    "            \n",
    "            genus1 = id_species_mapping[groups_l[i]][id_value].split(' ')[0]\n",
    "            genus2 = id_species_mapping[groups_l[j]][id_value].split(' ')[0]\n",
    "            \n",
    "            if genus1 == genus2:\n",
    "                genus_paired_counts[group_key] = (count[0] + 1, count[1])\n",
    "            else:\n",
    "                genus_paired_counts[group_key] = (count[0], count[1] + 1)"
   ]
  },
  {
   "cell_type": "code",
   "execution_count": 11,
   "id": "ca686546",
   "metadata": {},
   "outputs": [],
   "source": [
    "#Plot statistics for multiple mapped queries\n",
    "\n",
    "total_counts = {}\n",
    "for q in multi_mapping_ids:\n",
    "    cats_for_q = id_to_cats[q]\n",
    "    if len(cats_for_q) > 1:\n",
    "        n = len(cats_for_q)\n",
    "        total_counts[n] = total_counts.get(n, 0) + 1\n",
    "\n",
    "x_total = sorted(total_counts.keys())\n",
    "y_total = [total_counts[k] for k in x_total]\n",
    "\n",
    "plt.figure()\n",
    "plt.bar(x_total, y_total)\n",
    "plt.xlabel('# classifiers')\n",
    "plt.ylabel('# queries')\n",
    "plt.xlim([min(x_total) - 0.5, max(x_total) + 0.5])\n",
    "plt.xticks(x_total)\n",
    "plt.title('Queries classified by multiple classifiers')\n",
    "plt.tight_layout()\n",
    "plt.savefig(r'figures/classifier_comp/multiple_numqueries.png')\n",
    "plt.show()"
   ]
  },
  {
   "cell_type": "code",
   "execution_count": 12,
   "id": "7f5de971",
   "metadata": {},
   "outputs": [],
   "source": [
    "#Plot statistics for identically classified queries\n",
    "\n",
    "ident_map_counts = {}\n",
    "for q in multi_mapping_ids:\n",
    "    cats_for_q = id_to_cats[q]\n",
    "    if len(cats_for_q) > 1 and len({id_species_mapping[cat][q][0] for cat in cats_for_q}) == 1:\n",
    "        n = len(cats_for_q)\n",
    "        ident_map_counts[n] = ident_map_counts.get(n, 0) + 1\n",
    "\n",
    "x_ident = sorted(ident_map_counts.keys())\n",
    "y_ident = [ident_map_counts[k] for k in x_ident]\n",
    "\n",
    "plt.figure()\n",
    "plt.bar(x_ident, y_ident)\n",
    "plt.xlabel('# classifiers')\n",
    "plt.ylabel('# queries')\n",
    "plt.xlim([min(x_ident) - 0.5, max(x_ident) + 0.5])\n",
    "plt.xticks(x_ident)\n",
    "plt.title('Identically classified queries (genera)')\n",
    "plt.savefig(r'figures/classifier_comp/identical_numqueries.png')\n",
    "plt.show()"
   ]
  },
  {
   "cell_type": "code",
   "execution_count": 13,
   "id": "46d260a7",
   "metadata": {},
   "outputs": [],
   "source": [
    "# Visualize pairwise classifier agreement\n",
    "cats = ['cf_rs', 'cf_nt', 'cf_gtdb', 'k2_rs', 'dmd_ur', 'dmd_nr']\n",
    "\n",
    "for counts, name in [(species_paired_counts, 'species'), (genus_paired_counts, 'genera')]:\n",
    "    df = pd.DataFrame(0.0, index=cats, columns=cats)\n",
    "\n",
    "    for key, (num, denom) in counts.items():\n",
    "        a, b = key.split(',')\n",
    "        if a in cats and b in cats:\n",
    "            total = num + denom\n",
    "            prop = num / total if total > 0 else 0.0\n",
    "            df.loc[a, b] = prop\n",
    "            df.loc[b, a] = prop\n",
    "    \n",
    "    for cat in cats:\n",
    "        df.loc[cat, cat] = 1.0\n",
    "\n",
    "    min_nonzero = df[df > 0].stack().min()\n",
    "    tick_vals = np.around(np.linspace(0, df.values.max(), 15), 3)\n",
    "\n",
    "    cmap = cm.get_cmap('viridis').copy()\n",
    "\n",
    "    sns.heatmap(df, cmap=cmap,  annot=True, fmt='.3f', cbar = False, square = True, cbar_kws={'ticks': tick_vals})\n",
    "    plt.title(f'Proportion of queries identically classified ({name})')\n",
    "    plt.savefig(rf'figures\\classifier_comp\\identically_classified_{name}.png')\n",
    "    plt.show()"
   ]
  },
  {
   "cell_type": "code",
   "execution_count": 14,
   "id": "598c3a04",
   "metadata": {},
   "outputs": [],
   "source": [
    "#aggregate counts for all species that are either unanimously classified or uniquely classified\n",
    "updated_spct = {}\n",
    "for id in id_to_cats:\n",
    "    idset = id_to_cats[id]\n",
    "    if len(idset) == 1:\n",
    "        dsname = next(iter(idset))\n",
    "        spnm = id_species_mapping[dsname][id]\n",
    "        updated_spct[spnm] = updated_spct.get(spnm, 0) + 1\n",
    "    elif id in unanimous_species_ids:\n",
    "        dsname = next(iter(idset))\n",
    "        spnm = id_species_mapping[dsname][id]\n",
    "        updated_spct[spnm] = updated_spct.get(spnm, 0) + 1\n",
    "    else:\n",
    "        continue\n",
    "\n",
    "print(updated_spct)\n",
    "\n",
    "spct_df = pd.DataFrame.from_dict(updated_spct, orient='index', columns=['count'])\n",
    "spct_df['proportion'] = spct_df['count'] / spct_df['count'].sum()\n",
    "spct_df = spct_df.sort_values(by='proportion', ascending=False)\n",
    "spct_df = spct_df.dropna(axis='index')\n",
    "print(spct_df.head())        "
   ]
  },
  {
   "cell_type": "code",
   "execution_count": 16,
   "id": "43b6f1f1",
   "metadata": {},
   "outputs": [],
   "source": [
    "spct_df.dropna(inplace=True)\n",
    "gnct_df = spct_df.groupby(lambda s: s.split(' ')[0] if isinstance(s, str) else 'Unknown').sum()\n",
    "\n",
    "spct_df_copy = spct_df.reset_index().rename(columns={'index': 'name'}) if 'name' not in spct_df.columns else spct_df\n",
    "gnct_df_copy = gnct_df.reset_index().rename(columns={'index': 'name'}) if 'name' not in gnct_df.columns else gnct_df\n",
    "\n",
    "taxo_utils.create_stacked_bar_plot(spct_df_copy, 'Aggregated Species Distribution', cutoff=0.005, out_dir=r'figures\\barplots')\n",
    "taxo_utils.create_stacked_bar_plot(gnct_df_copy, 'Aggregated Genus Distribution', cutoff=0.005, out_dir=r'figures\\barplots')\n"
   ]
  },
  {
   "cell_type": "code",
   "execution_count": 17,
   "id": "876fc212",
   "metadata": {},
   "outputs": [],
   "source": [
    "spct_df = spct_df.reset_index().rename(columns={'index': 'name'})\n",
    "print(sum(spct_df['count']), 'total classified species')\n",
    "spct_df.to_csv(r'data_output\\agg_summary.tsv', sep='\\t', index=False)"
   ]
  },
  {
   "cell_type": "code",
   "execution_count": 18,
   "id": "0b94b558",
   "metadata": {},
   "outputs": [],
   "source": [
    "# Create id to species mapping TSV\n",
    "\n",
    "output_rows = []\n",
    "for id, classifiers_for_id in id_to_cats.items():\n",
    "    if len(classifiers_for_id) == 1:\n",
    "        cat = next(iter(classifiers_for_id))\n",
    "        species = id_species_mapping[cat][id]\n",
    "        output_rows.append({'query_id': id, 'species_name': species})\n",
    "    else:\n",
    "        species_names = set(id_species_mapping[cat][id] for cat in classifiers_for_id)\n",
    "        if len(species_names) == 1:\n",
    "            species = next(iter(species_names))\n",
    "            output_rows.append({'query_id': id, 'species_name': species})\n",
    "\n",
    "species_hits_df = pd.DataFrame(output_rows)\n",
    "species_hits_df.to_csv('data_output/species_id_mapping.tsv', sep = '\\t')\n",
    "print(f'Saved {len(species_hits_df)} mappings to data_output\\\\species_id_mapping.tsv')"
   ]
  }
 ],
 "metadata": {
  "kernelspec": {
   "display_name": "Python 3 (ipykernel)",
   "language": "python",
   "name": "python3"
  },
  "language_info": {
   "codemirror_mode": {
    "name": "ipython",
    "version": 3
   },
   "file_extension": ".py",
   "mimetype": "text/x-python",
   "name": "python",
   "nbconvert_exporter": "python",
   "pygments_lexer": "ipython3",
   "version": "3.12.9"
  }
 },
 "nbformat": 4,
 "nbformat_minor": 5
}
